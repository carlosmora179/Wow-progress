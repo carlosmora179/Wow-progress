{
 "cells": [
  {
   "cell_type": "code",
   "execution_count": 110,
   "metadata": {},
   "outputs": [],
   "source": [
    "import requests\n",
    "import json\n",
    "import pandas as pd\n",
    "import datetime\n",
    "import matplotlib.pyplot as plt"
   ]
  },
  {
   "cell_type": "code",
   "execution_count": null,
   "metadata": {},
   "outputs": [],
   "source": [
    "\n",
    "\n",
    "url = \"https://raider.io/api/v1/guilds/profile?access_key=RIORcaTkJx1kUf9ETAAs2o3i8&region=us&realm=Ragnaros&name=Chifrijo%20Raiders&fields=members\"\n",
    "\n",
    "payload = {}\n",
    "headers = {}\n",
    "\n",
    "responseGuild = requests.request(\"GET\", url, headers=headers, data=payload)\n",
    "\n",
    "\n",
    "\n"
   ]
  },
  {
   "cell_type": "code",
   "execution_count": null,
   "metadata": {},
   "outputs": [],
   "source": [
    "\n",
    "\n",
    "datajson = json.loads( responseGuild.text)\n"
   ]
  },
  {
   "cell_type": "code",
   "execution_count": null,
   "metadata": {},
   "outputs": [],
   "source": [
    "\n",
    "data = datajson\n",
    "\n",
    "\n",
    "memebers = data['members']\n",
    "\n",
    "\n",
    "df = pd.DataFrame([\n",
    "    {\n",
    "        \"Nombre\": m['character']['name'],\n",
    "        \"Rank\": '',\n",
    "        \"Date\": ''\n",
    "    }\n",
    "    for m in data['members']\n",
    "])\n",
    "\n"
   ]
  },
  {
   "cell_type": "code",
   "execution_count": 102,
   "metadata": {},
   "outputs": [],
   "source": [
    "def get_rank(name, realm):\n",
    "    import requests\n",
    "    import json\n",
    "\n",
    "\n",
    "\n",
    "\n",
    "\n",
    "    url = f\"\"\"https://raider.io/api/v1/characters/profile?access_key=RIORcaTkJx1kUf9ETAAs2o3i8&region=us&realm={realm}&name={name}&fields=mythic_plus_scores_by_season%3Aseason-tww-2\"\"\"\n",
    "    \n",
    "    payload = {}\n",
    "    headers = {\n",
    "    'accept': 'application/json'\n",
    "    }\n",
    "\n",
    "    response = requests.request(\"GET\", url, headers=headers, data=payload)\n",
    "\n",
    "    response_json = json.loads(response.text)\n",
    "\n",
    "    return response_json['mythic_plus_scores_by_season'][0]['scores']['all']"
   ]
  },
  {
   "cell_type": "code",
   "execution_count": 55,
   "metadata": {},
   "outputs": [],
   "source": [
    "def get_last_active_time(name, realm):\n",
    "    import requests\n",
    "    import json\n",
    "\n",
    "\n",
    "\n",
    "\n",
    "\n",
    "    url = f\"\"\"https://raider.io/api/v1/characters/profile?access_key=RIORcaTkJx1kUf9ETAAs2o3i8&region=us&realm={realm}&name={name}&fields=mythic_plus_recent_runs\"\"\"\n",
    "\n",
    "    payload = {}\n",
    "    headers = {\n",
    "    'accept': 'application/json'\n",
    "    }\n",
    "\n",
    "    response = requests.request(\"GET\", url, headers=headers, data=payload)\n",
    "\n",
    "    response_json = json.loads(response.text)\n",
    "\n",
    "    return response_json['mythic_plus_recent_runs'][0]['completed_at']"
   ]
  },
  {
   "cell_type": "code",
   "execution_count": 103,
   "metadata": {},
   "outputs": [],
   "source": [
    "ListFinal = []"
   ]
  },
  {
   "cell_type": "code",
   "execution_count": null,
   "metadata": {},
   "outputs": [],
   "source": [
    "fistDay = datetime.datetime.strptime(\"2025-05-10\", \"%Y-%m-%d\").strftime(\"%d/%m/%Y\")\n",
    "lastDay = datetime.datetime.strptime(\"2025-05-20\", \"%Y-%m-%d\").strftime(\"%d/%m/%Y\")\n",
    "\n",
    "if responseGuild.status_code == 200:\n",
    "    json_data = responseGuild.json() \n",
    "    usuarios = memebers\n",
    "\n",
    "    for usuario in usuarios:\n",
    "        rank = get_rank(usuario['character']['name'], usuario['character']['realm'])\n",
    "        if rank != 0:\n",
    "            last_active = get_last_active_time(usuario['character']['name'], usuario['character']['realm'])\n",
    "            last_active_formated = datetime.datetime.strptime(last_active, \"%Y-%m-%dT%H:%M:%S.%fZ\").strftime(\"%d/%m/%Y\")\n",
    "            if datetime.datetime.strptime (last_active_formated,\"%d/%m/%Y\") > datetime.datetime.strptime (fistDay,\"%d/%m/%Y\") and datetime.datetime.strptime (last_active_formated,\"%d/%m/%Y\") < datetime.datetime.strptime (lastDay,\"%d/%m/%Y\"):\n",
    "                ListFinal.append({\n",
    "                    'Nombre': usuario['character']['name'],\n",
    "                    'Rank': rank,\n",
    "                    'Date': last_active_formated\n",
    "                })\n",
    "else:\n",
    "    print(f\"Error {responseGuild.status_code}: {responseGuild.text}\")"
   ]
  },
  {
   "cell_type": "code",
   "execution_count": 116,
   "metadata": {},
   "outputs": [],
   "source": [
    "dfListFinal = pd.DataFrame(ListFinal)\n"
   ]
  },
  {
   "cell_type": "code",
   "execution_count": 117,
   "metadata": {},
   "outputs": [],
   "source": [
    "dfListFinal.sort_values(by='Rank', ascending=False, inplace=True)"
   ]
  },
  {
   "cell_type": "code",
   "execution_count": 119,
   "metadata": {},
   "outputs": [],
   "source": [
    "df_sorted = dfListFinal"
   ]
  },
  {
   "cell_type": "code",
   "execution_count": 123,
   "metadata": {},
   "outputs": [],
   "source": [
    "df_sorted.to_csv('output.csv', index=False)"
   ]
  }
 ],
 "metadata": {
  "kernelspec": {
   "display_name": "Python 3",
   "language": "python",
   "name": "python3"
  },
  "language_info": {
   "codemirror_mode": {
    "name": "ipython",
    "version": 3
   },
   "file_extension": ".py",
   "mimetype": "text/x-python",
   "name": "python",
   "nbconvert_exporter": "python",
   "pygments_lexer": "ipython3",
   "version": "3.9.13"
  }
 },
 "nbformat": 4,
 "nbformat_minor": 2
}
